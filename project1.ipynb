{
 "cells": [
  {
   "cell_type": "markdown",
   "metadata": {},
   "source": [
    "### Define Event and Schedule classes"
   ]
  },
  {
   "cell_type": "code",
   "execution_count": 40,
   "metadata": {},
   "outputs": [],
   "source": [
    "import heapq\n",
    "import numpy as np\n",
    "\n",
    "class Event:\n",
    "    '''\n",
    "    Store the properties of one event in the Schedule class defined below. Each\n",
    "    event has a time at which it needs to run, a function to call when running\n",
    "    the event, along with the arguments and keyword arguments to pass to that\n",
    "    function.\n",
    "    '''\n",
    "    def __init__(self, timestamp, function, *args, **kwargs):\n",
    "        self.timestamp = timestamp\n",
    "        self.function = function\n",
    "        self.args = args\n",
    "        self.kwargs = kwargs\n",
    "\n",
    "    def __lt__(self, other):\n",
    "        '''\n",
    "        This overloads the less-than operator in Python. We need it so the\n",
    "        priority queue knows how to compare two events. We want events with\n",
    "        earlier (smaller) times to go first.\n",
    "        '''\n",
    "        return self.timestamp < other.timestamp\n",
    "\n",
    "    def run(self, schedule):\n",
    "        '''\n",
    "        Run an event by calling the function with its arguments and keyword\n",
    "        arguments. The first argument to any event function is always the\n",
    "        schedule in which events are being tracked. The schedule object can be\n",
    "        used to add new events to the priority queue.\n",
    "        '''\n",
    "        self.function(schedule, *self.args, **self.kwargs)\n",
    "\n",
    "\n",
    "class Schedule:\n",
    "    '''\n",
    "    Implement an event schedule using a priority queue. You can add events and\n",
    "    run the next event.\n",
    "    \n",
    "    The `now` attribute contains the time at which the last event was run.\n",
    "    '''\n",
    "    \n",
    "    def __init__(self):\n",
    "        self.now = 0  # Keep track of the current simulation time\n",
    "        self.priority_queue = []  # The priority queue of events to run\n",
    "    \n",
    "    def add_event_at(self, timestamp, function, *args, **kwargs):\n",
    "        # Add an event to the schedule at a particular point in time.\n",
    "        heapq.heappush(\n",
    "            self.priority_queue,\n",
    "            Event(timestamp, function, *args, **kwargs))\n",
    "    \n",
    "    def add_event_after(self, interval, function, *args, **kwargs):\n",
    "        # Add an event to the schedule after a specified time interval.\n",
    "        self.add_event_at(self.now + interval, function, *args, **kwargs)\n",
    "    \n",
    "    def next_event_time(self):\n",
    "        return self.priority_queue[0].timestamp\n",
    "\n",
    "    def run_next_event(self):\n",
    "        # Get the next event from the priority queue and run it.\n",
    "        event = heapq.heappop(self.priority_queue)\n",
    "        self.now = event.timestamp\n",
    "        event.run(self)\n",
    "        \n",
    "    def __repr__(self):\n",
    "        return (\n",
    "            f'Schedule() at time {self.now} ' +\n",
    "            f'with {len(self.priority_queue)} events in the queue')\n",
    "    \n",
    "    def print_events(self):\n",
    "        print(repr(self))\n",
    "        for event in sorted(self.priority_queue):\n",
    "            print(f'   {event.timestamp}: {event.function.__name__}')"
   ]
  },
  {
   "cell_type": "markdown",
   "metadata": {},
   "source": [
    "### Define Queue and GroceryStore classes"
   ]
  },
  {
   "cell_type": "code",
   "execution_count": 41,
   "metadata": {},
   "outputs": [],
   "source": [
    "import numpy as np\n",
    "class Queue:\n",
    "    def __init__(self, service_distribution, queue_type = \"regular\", manager_queue = None):\n",
    "        self.service_distribution = service_distribution\n",
    "        self.queue_type = queue_type\n",
    "        if self.queue_type == \"regular\":\n",
    "            self.manager_queue = manager_queue\n",
    "        # We start with an empty queue and the server not busy\n",
    "        self.people_in_queue = 0\n",
    "        self.people_being_served = 0\n",
    "        self.total_people_joined = 0\n",
    "\n",
    "        # Record arrival times \n",
    "        self.arrival_times = []\n",
    "        # Record queue departure times\n",
    "        self.departure_times = []\n",
    "        # Record service finish times\n",
    "        self.finish_times = []\n",
    "\n",
    "    def add_customer(self, schedule):\n",
    "        # Add the customer to the queue\n",
    "        self.people_in_queue += 1\n",
    "        self.total_people_joined += 1\n",
    "        self.arrival_times.append(schedule.now)\n",
    "        if self.people_being_served < 1:\n",
    "            # This customer can be served immediately\n",
    "            schedule.add_event_after(0, self.start_serving_customer)\n",
    "            \n",
    "    def start_serving_customer(self, schedule):\n",
    "        # Move the customer from the queue to a server\n",
    "        self.people_in_queue -= 1\n",
    "        self.people_being_served += 1\n",
    "        self.departure_times.append(schedule.now)\n",
    "        # Schedule when the server will be done with the customer\n",
    "        schedule.add_event_after(\n",
    "            self.service_distribution.rvs(),\n",
    "            self.finish_serving_customer)\n",
    "            \n",
    "    def finish_serving_customer(self, schedule):\n",
    "        # Remove the customer from the server\n",
    "        self.people_being_served -= 1\n",
    "        self.finish_times.append(schedule.now)\n",
    "        if self.people_in_queue > 0:\n",
    "            # There are more people in the queue so serve the next customer\n",
    "            schedule.add_event_after(0, self.start_serving_customer)\n",
    "        # Add customer to the manager queue in the rare case of 5% probability \n",
    "        if self.queue_type == \"regular\" and np.random.rand() < 0.05:\n",
    "            schedule.add_event_after(0, self.manager_queue.add_customer)\n",
    "\n",
    "class GroceryStore:\n",
    "    \n",
    "    def __init__(self, arrival_distribution, service_distribution, manager_service_distribution, num_of_queues, run_until):\n",
    "        self.arrival_distribution = arrival_distribution\n",
    "        self.num_of_queues = num_of_queues\n",
    "        self.run_until = run_until\n",
    "        self.manager_queue = Queue(manager_service_distribution, queue_type = \"manager\")\n",
    "        self.queue_list = []\n",
    "        for i in range(num_of_queues):\n",
    "            self.queue_list.append(Queue(service_distribution, manager_queue=self.manager_queue))\n",
    "\n",
    "    def add_customer(self, schedule):\n",
    "        # Define the shortest queue \n",
    "        queue = self.queue_list[0]\n",
    "        for i in range(self.num_of_queues): \n",
    "            if self.queue_list[i].people_in_queue < queue.people_in_queue:\n",
    "                queue = self.queue_list[i]\n",
    "        # Add this customer to the queue\n",
    "        queue.add_customer(schedule)\n",
    "        # Schedule when to add another customer\n",
    "        if schedule.now < self.run_until:\n",
    "            # Schedule new customer arrival until the closing time\n",
    "            schedule.add_event_after(\n",
    "                self.arrival_distribution.rvs(),\n",
    "                self.add_customer)\n",
    "\n",
    "    def run(self, schedule):\n",
    "        # Schedule when the first customer arrives\n",
    "        schedule.add_event_after(\n",
    "            self.arrival_distribution.rvs(),\n",
    "            self.add_customer)\n",
    "        \n",
    "\n",
    "def run_simulation(arrival_distribution, service_distribution, manager_service_distribution, run_until, num_of_queues):\n",
    "    plot_data = {\"Waiting times\": [], \"Response times\": [], \"People in queue\": [], \"Total people in system\": []}\n",
    "    schedule = Schedule()\n",
    "    grocery_store = GroceryStore(arrival_distribution=arrival_distribution, service_distribution=service_distribution, manager_service_distribution=manager_service_distribution, num_of_queues=num_of_queues, run_until=run_until)\n",
    "    grocery_store.run(schedule)\n",
    "    while len(schedule.priority_queue) > 0:\n",
    "        # Run the next event into the scheduler until the priority queue is empty\n",
    "        schedule.run_next_event()\n",
    "        # Put together total people in system\n",
    "        total_customers = 0\n",
    "        for i in range(num_of_queues):\n",
    "            total_customers += grocery_store.queue_list[i].people_in_queue\n",
    "            total_customers += grocery_store.queue_list[i].people_being_served\n",
    "        # total_customers += grocery_store.manager_queue.people_in_queue\n",
    "        # total_customers += grocery_store.manager_queue.people_being_served\n",
    "        plot_data[\"Total people in system\"].append((total_customers, schedule.now))\n",
    "        # Put together queue length measures for all queues\n",
    "        for i in range(num_of_queues):\n",
    "            plot_data[\"People in queue\"].append((grocery_store.queue_list[i].people_in_queue, schedule.now))\n",
    "    # Record waiting times \n",
    "    for i in range(num_of_queues):\n",
    "        plot_data[\"Waiting times\"] += (np.array(grocery_store.queue_list[i].departure_times) - np.array(grocery_store.queue_list[i].arrival_times)).tolist()\n",
    "    # Record response times \n",
    "    for i in range(num_of_queues):\n",
    "        plot_data[\"Response times\"] += (np.array(grocery_store.queue_list[i].finish_times) - np.array(grocery_store.queue_list[i].arrival_times)).tolist()\n",
    "    return grocery_store, plot_data"
   ]
  },
  {
   "cell_type": "markdown",
   "metadata": {},
   "source": [
    "### Tests\n",
    "\n",
    "Run small tests to check if the model simulation is running accurately. \n",
    "\n",
    "Test 1: one server/queue\n",
    "\n",
    "Test 2: three servers/queues"
   ]
  },
  {
   "cell_type": "code",
   "execution_count": 42,
   "metadata": {},
   "outputs": [],
   "source": [
    "# Run a short test with an M/G/c queue\n",
    "import scipy.stats as sts\n",
    "import matplotlib.pyplot as plt\n",
    "from tqdm import tqdm\n",
    "\n",
    "def test_simulation(num_of_queues):\n",
    "    arrival_distribution = sts.expon(scale=1/1)\n",
    "    service_distribution = sts.norm(loc=3, scale=1)\n",
    "    manager_service_distribution = sts.norm(loc=5, scale=2)\n",
    "    np.random.seed(123)\n",
    "    # mins since 9 AM (until 8pm)\n",
    "    run_until = 660\n",
    "\n",
    "    grocery_store, plot_data = run_simulation(arrival_distribution=arrival_distribution, service_distribution=service_distribution, \n",
    "        manager_service_distribution=manager_service_distribution, run_until=run_until, num_of_queues=num_of_queues)\n",
    "\n",
    "    # Total number of people that joined each queue\n",
    "    for i in range(len(grocery_store.queue_list)):\n",
    "        print(f'The total number of people that have joined queue No. {i+1}: {grocery_store.queue_list[i].total_people_joined}')\n",
    "    print(f'The total number of people that have joined manager queue: {grocery_store.manager_queue.total_people_joined}')\n",
    "\n",
    "    data = plot_data[\"People in queue\"]\n",
    "    y = list(zip(*data))[0]\n",
    "    x = list(zip(*data))[1]\n",
    "    plt.title(f\"M/G/c test for c={num_of_queues}\")\n",
    "    plt.xlabel(\"Time [mins since 9 AM]\")\n",
    "    plt.ylabel(\"Average queue length\")\n",
    "    plt.plot(x, y)\n",
    "    total_num_customers = 0\n",
    "    for i in range(len(grocery_store.queue_list)):\n",
    "        total_num_customers += grocery_store.queue_list[i].total_people_joined\n",
    "    print(f\"Store finished serving {total_num_customers} customers {x[-1]//60} hours {round(x[-1]%60,2)} mins after 9AM\")"
   ]
  },
  {
   "cell_type": "code",
   "execution_count": 43,
   "metadata": {},
   "outputs": [
    {
     "name": "stdout",
     "output_type": "stream",
     "text": [
      "The total number of people that have joined queue No. 1: 677\n",
      "The total number of people that have joined manager queue: 35\n",
      "Store finished serving 677 customers 33.0 hours 34.82 mins after 9AM\n"
     ]
    },
    {
     "data": {
      "image/png": "[encoded data removed]",
      "text/plain": [
       "<Figure size 432x288 with 1 Axes>"
      ]
     },
     "metadata": {
      "needs_background": "light"
     },
     "output_type": "display_data"
    }
   ],
   "source": [
    "# Test 1: one server/queue\n",
    "test_simulation(num_of_queues=1)"
   ]
  },
  {
   "cell_type": "code",
   "execution_count": 44,
   "metadata": {},
   "outputs": [
    {
     "name": "stdout",
     "output_type": "stream",
     "text": [
      "The total number of people that have joined queue No. 1: 221\n",
      "The total number of people that have joined queue No. 2: 220\n",
      "The total number of people that have joined queue No. 3: 199\n",
      "The total number of people that have joined manager queue: 32\n",
      "Store finished serving 640 customers 11.0 hours 7.64 mins after 9AM\n"
     ]
    },
    {
     "data": {
      "image/png": "[encoded data removed]",
      "text/plain": [
       "<Figure size 432x288 with 1 Axes>"
      ]
     },
     "metadata": {
      "needs_background": "light"
     },
     "output_type": "display_data"
    }
   ],
   "source": [
    "# Test 2: three servers/queues\n",
    "test_simulation(num_of_queues=3)"
   ]
  },
  {
   "cell_type": "markdown",
   "metadata": {},
   "source": [
    "### Experiment\n",
    "\n",
    "Run an experiment for different number of servers/queues for M/G/c system."
   ]
  },
  {
   "cell_type": "code",
   "execution_count": 45,
   "metadata": {},
   "outputs": [],
   "source": [
    "def run_experiment(num_queues_list, measurement, num_trials=10, run_until=540):\n",
    "    '''\n",
    "    Run an experiment with different number of queues for an M/G/c model.\n",
    "    '''\n",
    "    \n",
    "    # We record only the mean and standard error of the mean for each experiment\n",
    "    results_mean = []\n",
    "    results_std_err = []\n",
    "\n",
    "    arrival_distribution = sts.expon(scale=1/1)\n",
    "    service_distribution = sts.norm(loc=3, scale=1)\n",
    "    manager_service_distribution = sts.norm(loc=5, scale=2)\n",
    "\n",
    "    for num in tqdm(num_queues_list):\n",
    "        results = []\n",
    "        for trial in range(num_trials):\n",
    "            grocery_store, plot_data = run_simulation(arrival_distribution=arrival_distribution, service_distribution=service_distribution, \n",
    "                manager_service_distribution=manager_service_distribution, run_until=run_until, num_of_queues=num)\n",
    "            if measurement in [\"People in queue\", \"Total people in system\"]:\n",
    "                data = plot_data[measurement]\n",
    "                results += list(zip(*data))[0]\n",
    "            else:\n",
    "                results += plot_data[measurement]\n",
    "        results_mean.append(np.mean(results))\n",
    "        results_std_err.append(sts.sem(results))\n",
    "\n",
    "    # Convert lists to arrays so we can easily add, subtract, and multiply them\n",
    "    results_mean = np.array(results_mean)\n",
    "    results_std_err = np.array(results_std_err)\n",
    "    \n",
    "    return results_mean, results_std_err"
   ]
  },
  {
   "cell_type": "code",
   "execution_count": 46,
   "metadata": {},
   "outputs": [
    {
     "name": "stdout",
     "output_type": "stream",
     "text": [
      "[1, 2, 3, 4, 5, 6, 7, 8, 9, 10]\n"
     ]
    },
    {
     "name": "stderr",
     "output_type": "stream",
     "text": [
      "100%|██████████| 10/10 [00:04<00:00,  2.06it/s]\n",
      "100%|██████████| 10/10 [00:05<00:00,  1.98it/s]\n",
      "100%|██████████| 10/10 [00:05<00:00,  1.69it/s]\n",
      "100%|██████████| 10/10 [00:04<00:00,  2.18it/s]"
     ]
    },
    {
     "name": "stdout",
     "output_type": "stream",
     "text": [
      "M/G/c experiment complete\n"
     ]
    },
    {
     "name": "stderr",
     "output_type": "stream",
     "text": [
      "\n"
     ]
    }
   ],
   "source": [
    "# Run the M/G/1 queue experiment\n",
    "num_queues_list = [i for i in range(1, 11)]\n",
    "num_trials = 10\n",
    "run_until = 660\n",
    "print(num_queues_list)\n",
    "\n",
    "np.random.seed(123)\n",
    "waiting_times_mean, waiting_times_std_err = run_experiment(num_queues_list, measurement=\"Waiting times\", num_trials=num_trials, run_until=run_until)\n",
    "response_times_mean, response_times_std_err = run_experiment(num_queues_list, measurement=\"Response times\", num_trials=num_trials, run_until=run_until)\n",
    "queue_length_mean, queue_length_std_err = run_experiment(num_queues_list, measurement=\"People in queue\", num_trials=num_trials, run_until=run_until)\n",
    "total_people_in_system_mean, total_people_in_system_std_err = run_experiment(num_queues_list, measurement=\"Total people in system\", num_trials=num_trials, run_until=run_until)\n",
    "print('M/G/c experiment complete')"
   ]
  },
  {
   "cell_type": "code",
   "execution_count": 47,
   "metadata": {},
   "outputs": [
    {
     "data": {
      "text/plain": [
       "array([685.93161246, 168.00269184,  14.781275  ,   2.07223   ,\n",
       "         1.73893258,   1.65127042,   1.6611725 ,   1.63051256,\n",
       "         1.64791934,   1.63892045])"
      ]
     },
     "execution_count": 47,
     "metadata": {},
     "output_type": "execute_result"
    }
   ],
   "source": [
    "# Average waiting times for number of queues ranging from 1 to 10\n",
    "waiting_times_mean"
   ]
  },
  {
   "cell_type": "code",
   "execution_count": 48,
   "metadata": {},
   "outputs": [
    {
     "data": {
      "text/plain": [
       "array([656.76082141, 170.18793702,  16.46390988,   5.06742346,\n",
       "         4.65555801,   4.60106093,   4.66674515,   4.59174491,\n",
       "         4.67831315,   4.62620927])"
      ]
     },
     "execution_count": 48,
     "metadata": {},
     "output_type": "execute_result"
    }
   ],
   "source": [
    "# Average response times for number of queues ranging from 1 to 10\n",
    "response_times_mean"
   ]
  },
  {
   "cell_type": "code",
   "execution_count": 49,
   "metadata": {},
   "outputs": [
    {
     "data": {
      "text/plain": [
       "array([2.17952137e+02, 5.79068704e+01, 5.96626187e+00, 6.62021858e-01,\n",
       "       4.42948445e-01, 3.44780508e-01, 2.98889926e-01, 2.67938671e-01,\n",
       "       2.35075064e-01, 2.05631615e-01])"
      ]
     },
     "execution_count": 49,
     "metadata": {},
     "output_type": "execute_result"
    }
   ],
   "source": [
    "# Average queue lengths for number of queues ranging from 1 to 10\n",
    "queue_length_mean"
   ]
  },
  {
   "cell_type": "code",
   "execution_count": 50,
   "metadata": {},
   "outputs": [
    {
     "data": {
      "text/plain": [
       "array([227.39816269, 108.60503674,  18.04645744,   5.43368288,\n",
       "         5.15533141,   5.04475511,   5.11963979,   5.13610756,\n",
       "         5.02657249,   5.24977951])"
      ]
     },
     "execution_count": 50,
     "metadata": {},
     "output_type": "execute_result"
    }
   ],
   "source": [
    "# Average number of customers in the system for number of queues ranging from 1 to 10\n",
    "total_people_in_system_mean"
   ]
  }
 ],
 "metadata": {
  "kernelspec": {
   "display_name": "Python 3.8.12 ('base')",
   "language": "python",
   "name": "python3"
  },
  "language_info": {
   "codemirror_mode": {
    "name": "ipython",
    "version": 3
   },
   "file_extension": ".py",
   "mimetype": "text/x-python",
   "name": "python",
   "nbconvert_exporter": "python",
   "pygments_lexer": "ipython3",
   "version": "3.8.12"
  },
  "orig_nbformat": 4,
  "vscode": {
   "interpreter": {
    "hash": "53ebc667ae1806cce9d11aad52d94679aa0028981e35607ec8d721f2ea2d11b8"
   }
  }
 },
 "nbformat": 4,
 "nbformat_minor": 2
}
